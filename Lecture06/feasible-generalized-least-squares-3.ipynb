{
 "cells": [
  {
   "cell_type": "markdown",
   "metadata": {},
   "source": [
    "Data set available at [this link](https://economistsview.typepad.com/economics421/files/Data-for-Problem-3.xls)\n",
    "\n",
    "Implementation inspired by the solution presented at [this link](https://economistsview.typepad.com/economics421/2012/02/solution-to-homework-3.html)"
   ]
  },
  {
   "cell_type": "code",
   "execution_count": 1,
   "metadata": {},
   "outputs": [],
   "source": [
    "import pandas as pd\n",
    "import numpy as np"
   ]
  },
  {
   "cell_type": "code",
   "execution_count": 2,
   "metadata": {},
   "outputs": [],
   "source": [
    "data = pd.read_excel('../Lecture04/Data-for-Problem-3.xls', usecols=[1,2])"
   ]
  },
  {
   "cell_type": "code",
   "execution_count": 3,
   "metadata": {},
   "outputs": [
    {
     "data": {
      "text/html": [
       "<div>\n",
       "<style scoped>\n",
       "    .dataframe tbody tr th:only-of-type {\n",
       "        vertical-align: middle;\n",
       "    }\n",
       "\n",
       "    .dataframe tbody tr th {\n",
       "        vertical-align: top;\n",
       "    }\n",
       "\n",
       "    .dataframe thead th {\n",
       "        text-align: right;\n",
       "    }\n",
       "</style>\n",
       "<table border=\"1\" class=\"dataframe\">\n",
       "  <thead>\n",
       "    <tr style=\"text-align: right;\">\n",
       "      <th></th>\n",
       "      <th>SALARY</th>\n",
       "      <th>YEARS</th>\n",
       "    </tr>\n",
       "  </thead>\n",
       "  <tbody>\n",
       "    <tr>\n",
       "      <th>0</th>\n",
       "      <td>105.2</td>\n",
       "      <td>36</td>\n",
       "    </tr>\n",
       "    <tr>\n",
       "      <th>1</th>\n",
       "      <td>91.3</td>\n",
       "      <td>30</td>\n",
       "    </tr>\n",
       "    <tr>\n",
       "      <th>2</th>\n",
       "      <td>72.5</td>\n",
       "      <td>29</td>\n",
       "    </tr>\n",
       "    <tr>\n",
       "      <th>3</th>\n",
       "      <td>74.3</td>\n",
       "      <td>28</td>\n",
       "    </tr>\n",
       "    <tr>\n",
       "      <th>4</th>\n",
       "      <td>103.5</td>\n",
       "      <td>26</td>\n",
       "    </tr>\n",
       "  </tbody>\n",
       "</table>\n",
       "</div>"
      ],
      "text/plain": [
       "   SALARY  YEARS\n",
       "0   105.2     36\n",
       "1    91.3     30\n",
       "2    72.5     29\n",
       "3    74.3     28\n",
       "4   103.5     26"
      ]
     },
     "execution_count": 3,
     "metadata": {},
     "output_type": "execute_result"
    }
   ],
   "source": [
    "data.head()"
   ]
  },
  {
   "cell_type": "markdown",
   "metadata": {},
   "source": [
    "Linear model:\n",
    "\n",
    "$$\n",
    "\\ln \\textrm{ Salary} = \\beta_1 + \\beta_2 \\textrm{ years} + \\beta_3 \\textrm{ years}^2 + u_i\n",
    "$$"
   ]
  },
  {
   "cell_type": "code",
   "execution_count": 4,
   "metadata": {},
   "outputs": [],
   "source": [
    "data['LOG_SALARY'] = data['SALARY'].apply(np.log)"
   ]
  },
  {
   "cell_type": "code",
   "execution_count": 5,
   "metadata": {},
   "outputs": [],
   "source": [
    "data['YEARS_SQ'] = data['YEARS'].pow(2)"
   ]
  },
  {
   "cell_type": "code",
   "execution_count": 6,
   "metadata": {},
   "outputs": [
    {
     "data": {
      "text/html": [
       "<div>\n",
       "<style scoped>\n",
       "    .dataframe tbody tr th:only-of-type {\n",
       "        vertical-align: middle;\n",
       "    }\n",
       "\n",
       "    .dataframe tbody tr th {\n",
       "        vertical-align: top;\n",
       "    }\n",
       "\n",
       "    .dataframe thead th {\n",
       "        text-align: right;\n",
       "    }\n",
       "</style>\n",
       "<table border=\"1\" class=\"dataframe\">\n",
       "  <thead>\n",
       "    <tr style=\"text-align: right;\">\n",
       "      <th></th>\n",
       "      <th>SALARY</th>\n",
       "      <th>YEARS</th>\n",
       "      <th>LOG_SALARY</th>\n",
       "      <th>YEARS_SQ</th>\n",
       "    </tr>\n",
       "  </thead>\n",
       "  <tbody>\n",
       "    <tr>\n",
       "      <th>0</th>\n",
       "      <td>105.2</td>\n",
       "      <td>36</td>\n",
       "      <td>4.655863</td>\n",
       "      <td>1296</td>\n",
       "    </tr>\n",
       "    <tr>\n",
       "      <th>1</th>\n",
       "      <td>91.3</td>\n",
       "      <td>30</td>\n",
       "      <td>4.514151</td>\n",
       "      <td>900</td>\n",
       "    </tr>\n",
       "    <tr>\n",
       "      <th>2</th>\n",
       "      <td>72.5</td>\n",
       "      <td>29</td>\n",
       "      <td>4.283587</td>\n",
       "      <td>841</td>\n",
       "    </tr>\n",
       "    <tr>\n",
       "      <th>3</th>\n",
       "      <td>74.3</td>\n",
       "      <td>28</td>\n",
       "      <td>4.308111</td>\n",
       "      <td>784</td>\n",
       "    </tr>\n",
       "    <tr>\n",
       "      <th>4</th>\n",
       "      <td>103.5</td>\n",
       "      <td>26</td>\n",
       "      <td>4.639572</td>\n",
       "      <td>676</td>\n",
       "    </tr>\n",
       "  </tbody>\n",
       "</table>\n",
       "</div>"
      ],
      "text/plain": [
       "   SALARY  YEARS  LOG_SALARY  YEARS_SQ\n",
       "0   105.2     36    4.655863      1296\n",
       "1    91.3     30    4.514151       900\n",
       "2    72.5     29    4.283587       841\n",
       "3    74.3     28    4.308111       784\n",
       "4   103.5     26    4.639572       676"
      ]
     },
     "execution_count": 6,
     "metadata": {},
     "output_type": "execute_result"
    }
   ],
   "source": [
    "data.head()"
   ]
  },
  {
   "cell_type": "markdown",
   "metadata": {},
   "source": [
    "___"
   ]
  },
  {
   "cell_type": "markdown",
   "metadata": {},
   "source": [
    "1. Regress $y$ on constant, $\\textrm{ years}, \\textrm{ years}^2$"
   ]
  },
  {
   "cell_type": "code",
   "execution_count": 7,
   "metadata": {},
   "outputs": [],
   "source": [
    "from sklearn.linear_model import LinearRegression"
   ]
  },
  {
   "cell_type": "code",
   "execution_count": 8,
   "metadata": {},
   "outputs": [],
   "source": [
    "linreg = LinearRegression()"
   ]
  },
  {
   "cell_type": "code",
   "execution_count": 9,
   "metadata": {},
   "outputs": [],
   "source": [
    "X = data[['YEARS','YEARS_SQ']]\n",
    "y = data['LOG_SALARY']"
   ]
  },
  {
   "cell_type": "code",
   "execution_count": 10,
   "metadata": {},
   "outputs": [
    {
     "data": {
      "text/plain": [
       "LinearRegression(copy_X=True, fit_intercept=True, n_jobs=None,\n",
       "         normalize=False)"
      ]
     },
     "execution_count": 10,
     "metadata": {},
     "output_type": "execute_result"
    }
   ],
   "source": [
    "linreg.fit(X,y)"
   ]
  },
  {
   "cell_type": "code",
   "execution_count": 11,
   "metadata": {},
   "outputs": [
    {
     "name": "stdout",
     "output_type": "stream",
     "text": [
      "3.8093653545744024 [ 0.04385284 -0.00062735]\n"
     ]
    }
   ],
   "source": [
    "print(linreg.intercept_, linreg.coef_)"
   ]
  },
  {
   "cell_type": "code",
   "execution_count": 12,
   "metadata": {},
   "outputs": [
    {
     "data": {
      "text/plain": [
       "0.5361786383088458"
      ]
     },
     "execution_count": 12,
     "metadata": {},
     "output_type": "execute_result"
    }
   ],
   "source": [
    "linreg.score(X,y)"
   ]
  },
  {
   "cell_type": "markdown",
   "metadata": {},
   "source": [
    "2. Calculate the estimated errors: $\\hat u_i = y_i - \\hat\\beta_1 + \\hat\\beta_2 \\textrm{ years } + \\hat\\beta_3 \\textrm{ years}^2$ :"
   ]
  },
  {
   "cell_type": "code",
   "execution_count": 13,
   "metadata": {},
   "outputs": [],
   "source": [
    "y_hat = linreg.predict(X)"
   ]
  },
  {
   "cell_type": "code",
   "execution_count": 14,
   "metadata": {},
   "outputs": [],
   "source": [
    "u_hat = y - y_hat"
   ]
  },
  {
   "cell_type": "markdown",
   "metadata": {},
   "source": [
    "Variance model:\n",
    "\n",
    "$$\n",
    "(c) \\quad \\ln\\sigma_i^2 = \\alpha_1 + \\alpha_2 z_2 + \\alpha_3 z_3 + ... + \\alpha_p z_p\n",
    "$$"
   ]
  },
  {
   "cell_type": "markdown",
   "metadata": {},
   "source": [
    "3. Regress $\\ln \\hat u_i^2$ on constant, $z_1, ..., z_p$"
   ]
  },
  {
   "cell_type": "code",
   "execution_count": 15,
   "metadata": {},
   "outputs": [],
   "source": [
    "ln_u_hat_sq = np.log(u_hat.pow(2))"
   ]
  },
  {
   "cell_type": "code",
   "execution_count": 16,
   "metadata": {},
   "outputs": [],
   "source": [
    "varreg = LinearRegression()"
   ]
  },
  {
   "cell_type": "code",
   "execution_count": 17,
   "metadata": {},
   "outputs": [],
   "source": [
    "Xvar = X.copy()\n",
    "yvar = ln_u_hat_sq.copy()"
   ]
  },
  {
   "cell_type": "code",
   "execution_count": 18,
   "metadata": {},
   "outputs": [
    {
     "data": {
      "text/plain": [
       "LinearRegression(copy_X=True, fit_intercept=True, n_jobs=None,\n",
       "         normalize=False)"
      ]
     },
     "execution_count": 18,
     "metadata": {},
     "output_type": "execute_result"
    }
   ],
   "source": [
    "varreg.fit(Xvar, yvar)"
   ]
  },
  {
   "cell_type": "code",
   "execution_count": 19,
   "metadata": {},
   "outputs": [
    {
     "name": "stdout",
     "output_type": "stream",
     "text": [
      "-6.562664425653965 [ 0.23556209 -0.00477648]\n"
     ]
    }
   ],
   "source": [
    "print(varreg.intercept_, varreg.coef_)"
   ]
  },
  {
   "cell_type": "markdown",
   "metadata": {},
   "source": [
    "4. Use the predicted variance $\\hat{\\ln \\sigma^2}$ to obtain $\\hat\\sigma_i$:"
   ]
  },
  {
   "cell_type": "code",
   "execution_count": 20,
   "metadata": {},
   "outputs": [],
   "source": [
    "ln_sigma_hat_sq = varreg.predict(Xvar)"
   ]
  },
  {
   "cell_type": "code",
   "execution_count": 21,
   "metadata": {},
   "outputs": [],
   "source": [
    "sigma_hat_sq = np.exp(ln_sigma_hat_sq)"
   ]
  },
  {
   "cell_type": "code",
   "execution_count": 22,
   "metadata": {},
   "outputs": [],
   "source": [
    "sigma_hat = np.sqrt(sigma_hat_sq)"
   ]
  },
  {
   "cell_type": "markdown",
   "metadata": {},
   "source": [
    "5. Divide the whole original model by $\\hat\\sigma_i$:"
   ]
  },
  {
   "cell_type": "code",
   "execution_count": 23,
   "metadata": {},
   "outputs": [],
   "source": [
    "data['LOG_SALARY_STAR'] = data['LOG_SALARY'].divide(sigma_hat)\n",
    "data['C_STAR'] = np.reciprocal(sigma_hat)\n",
    "data['YEARS_STAR'] = data['YEARS'].divide(sigma_hat)\n",
    "data['YEARS_SQ_STAR'] = data['YEARS_SQ'].divide(sigma_hat)"
   ]
  },
  {
   "cell_type": "code",
   "execution_count": 24,
   "metadata": {},
   "outputs": [
    {
     "data": {
      "text/html": [
       "<div>\n",
       "<style scoped>\n",
       "    .dataframe tbody tr th:only-of-type {\n",
       "        vertical-align: middle;\n",
       "    }\n",
       "\n",
       "    .dataframe tbody tr th {\n",
       "        vertical-align: top;\n",
       "    }\n",
       "\n",
       "    .dataframe thead th {\n",
       "        text-align: right;\n",
       "    }\n",
       "</style>\n",
       "<table border=\"1\" class=\"dataframe\">\n",
       "  <thead>\n",
       "    <tr style=\"text-align: right;\">\n",
       "      <th></th>\n",
       "      <th>SALARY</th>\n",
       "      <th>YEARS</th>\n",
       "      <th>LOG_SALARY</th>\n",
       "      <th>YEARS_SQ</th>\n",
       "      <th>LOG_SALARY_STAR</th>\n",
       "      <th>C_STAR</th>\n",
       "      <th>YEARS_STAR</th>\n",
       "      <th>YEARS_SQ_STAR</th>\n",
       "    </tr>\n",
       "  </thead>\n",
       "  <tbody>\n",
       "    <tr>\n",
       "      <th>0</th>\n",
       "      <td>105.2</td>\n",
       "      <td>36</td>\n",
       "      <td>4.655863</td>\n",
       "      <td>1296</td>\n",
       "      <td>39.429072</td>\n",
       "      <td>8.468692</td>\n",
       "      <td>304.872908</td>\n",
       "      <td>10975.424695</td>\n",
       "    </tr>\n",
       "    <tr>\n",
       "      <th>1</th>\n",
       "      <td>91.3</td>\n",
       "      <td>30</td>\n",
       "      <td>4.514151</td>\n",
       "      <td>900</td>\n",
       "      <td>30.100314</td>\n",
       "      <td>6.667990</td>\n",
       "      <td>200.039714</td>\n",
       "      <td>6001.191415</td>\n",
       "    </tr>\n",
       "    <tr>\n",
       "      <th>2</th>\n",
       "      <td>72.5</td>\n",
       "      <td>29</td>\n",
       "      <td>4.283587</td>\n",
       "      <td>841</td>\n",
       "      <td>27.909969</td>\n",
       "      <td>6.515561</td>\n",
       "      <td>188.951267</td>\n",
       "      <td>5479.586755</td>\n",
       "    </tr>\n",
       "    <tr>\n",
       "      <th>3</th>\n",
       "      <td>74.3</td>\n",
       "      <td>28</td>\n",
       "      <td>4.308111</td>\n",
       "      <td>784</td>\n",
       "      <td>27.559411</td>\n",
       "      <td>6.397099</td>\n",
       "      <td>179.118765</td>\n",
       "      <td>5015.325406</td>\n",
       "    </tr>\n",
       "    <tr>\n",
       "      <th>4</th>\n",
       "      <td>103.5</td>\n",
       "      <td>26</td>\n",
       "      <td>4.639572</td>\n",
       "      <td>676</td>\n",
       "      <td>29.023289</td>\n",
       "      <td>6.255597</td>\n",
       "      <td>162.645513</td>\n",
       "      <td>4228.783348</td>\n",
       "    </tr>\n",
       "  </tbody>\n",
       "</table>\n",
       "</div>"
      ],
      "text/plain": [
       "   SALARY  YEARS  LOG_SALARY  YEARS_SQ  LOG_SALARY_STAR    C_STAR  YEARS_STAR  \\\n",
       "0   105.2     36    4.655863      1296        39.429072  8.468692  304.872908   \n",
       "1    91.3     30    4.514151       900        30.100314  6.667990  200.039714   \n",
       "2    72.5     29    4.283587       841        27.909969  6.515561  188.951267   \n",
       "3    74.3     28    4.308111       784        27.559411  6.397099  179.118765   \n",
       "4   103.5     26    4.639572       676        29.023289  6.255597  162.645513   \n",
       "\n",
       "   YEARS_SQ_STAR  \n",
       "0   10975.424695  \n",
       "1    6001.191415  \n",
       "2    5479.586755  \n",
       "3    5015.325406  \n",
       "4    4228.783348  "
      ]
     },
     "execution_count": 24,
     "metadata": {},
     "output_type": "execute_result"
    }
   ],
   "source": [
    "data.head()"
   ]
  },
  {
   "cell_type": "code",
   "execution_count": 25,
   "metadata": {},
   "outputs": [],
   "source": [
    "fgls = LinearRegression(fit_intercept=False)"
   ]
  },
  {
   "cell_type": "code",
   "execution_count": 26,
   "metadata": {},
   "outputs": [],
   "source": [
    "Xstar = data[['C_STAR','YEARS_STAR','YEARS_SQ_STAR']]\n",
    "ystar = data['LOG_SALARY_STAR']"
   ]
  },
  {
   "cell_type": "code",
   "execution_count": 27,
   "metadata": {},
   "outputs": [
    {
     "data": {
      "text/plain": [
       "LinearRegression(copy_X=True, fit_intercept=False, n_jobs=None,\n",
       "         normalize=False)"
      ]
     },
     "execution_count": 27,
     "metadata": {},
     "output_type": "execute_result"
    }
   ],
   "source": [
    "fgls.fit(Xstar, ystar)"
   ]
  },
  {
   "cell_type": "code",
   "execution_count": 28,
   "metadata": {},
   "outputs": [
    {
     "name": "stdout",
     "output_type": "stream",
     "text": [
      "[ 3.82750788e+00  3.82145695e-02 -4.43338826e-04]\n"
     ]
    }
   ],
   "source": [
    "print(fgls.coef_)"
   ]
  },
  {
   "cell_type": "code",
   "execution_count": 29,
   "metadata": {},
   "outputs": [
    {
     "data": {
      "text/plain": [
       "0.9898301975446464"
      ]
     },
     "execution_count": 29,
     "metadata": {},
     "output_type": "execute_result"
    }
   ],
   "source": [
    "fgls.score(Xstar,ystar)"
   ]
  },
  {
   "cell_type": "code",
   "execution_count": null,
   "metadata": {},
   "outputs": [],
   "source": []
  }
 ],
 "metadata": {
  "kernelspec": {
   "display_name": "Python 3",
   "language": "python",
   "name": "python3"
  },
  "language_info": {
   "codemirror_mode": {
    "name": "ipython",
    "version": 3
   },
   "file_extension": ".py",
   "mimetype": "text/x-python",
   "name": "python",
   "nbconvert_exporter": "python",
   "pygments_lexer": "ipython3",
   "version": "3.7.3"
  }
 },
 "nbformat": 4,
 "nbformat_minor": 2
}
