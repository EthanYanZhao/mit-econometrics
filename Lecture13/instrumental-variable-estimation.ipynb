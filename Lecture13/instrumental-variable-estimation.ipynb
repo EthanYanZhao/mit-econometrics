{
 "cells": [
  {
   "cell_type": "markdown",
   "metadata": {},
   "source": [
    "The EAEF (Educational Attainment & Earnings Functions) data set was obtained through [this link](https://economistsview.typepad.com/economics421/files/EAEF.xls).\n",
    "\n",
    "- Other data sets reference in the [book](https://global.oup.com/ukhe/product/introduction-to-econometrics-9780199676828?cc=br&lang=en&) can be found [here](https://global.oup.com/uk/orc/busecon/economics/dougherty5e/student/datasets/)."
   ]
  },
  {
   "cell_type": "code",
   "execution_count": 21,
   "metadata": {},
   "outputs": [],
   "source": [
    "import numpy as np\n",
    "import pandas as pd\n",
    "from statsmodels.api import OLS, add_constant\n",
    "from statsmodels.sandbox.regression.gmm import IV2SLS"
   ]
  },
  {
   "cell_type": "code",
   "execution_count": 2,
   "metadata": {},
   "outputs": [],
   "source": [
    "data = pd.read_excel('./EAEF.xls')"
   ]
  },
  {
   "cell_type": "code",
   "execution_count": 3,
   "metadata": {},
   "outputs": [
    {
     "data": {
      "text/html": [
       "<div>\n",
       "<style scoped>\n",
       "    .dataframe tbody tr th:only-of-type {\n",
       "        vertical-align: middle;\n",
       "    }\n",
       "\n",
       "    .dataframe tbody tr th {\n",
       "        vertical-align: top;\n",
       "    }\n",
       "\n",
       "    .dataframe thead th {\n",
       "        text-align: right;\n",
       "    }\n",
       "</style>\n",
       "<table border=\"1\" class=\"dataframe\">\n",
       "  <thead>\n",
       "    <tr style=\"text-align: right;\">\n",
       "      <th></th>\n",
       "      <th>S</th>\n",
       "      <th>ASVABC</th>\n",
       "      <th>SM</th>\n",
       "      <th>SF</th>\n",
       "      <th>SIBLINGS</th>\n",
       "      <th>LIBRARY</th>\n",
       "      <th>EXPER</th>\n",
       "      <th>EARNINGS</th>\n",
       "    </tr>\n",
       "  </thead>\n",
       "  <tbody>\n",
       "    <tr>\n",
       "      <th>0</th>\n",
       "      <td>12</td>\n",
       "      <td>60.89985</td>\n",
       "      <td>8</td>\n",
       "      <td>8</td>\n",
       "      <td>11</td>\n",
       "      <td>0</td>\n",
       "      <td>22.384610</td>\n",
       "      <td>53.41</td>\n",
       "    </tr>\n",
       "    <tr>\n",
       "      <th>1</th>\n",
       "      <td>12</td>\n",
       "      <td>33.63790</td>\n",
       "      <td>5</td>\n",
       "      <td>5</td>\n",
       "      <td>3</td>\n",
       "      <td>0</td>\n",
       "      <td>8.903846</td>\n",
       "      <td>8.00</td>\n",
       "    </tr>\n",
       "    <tr>\n",
       "      <th>2</th>\n",
       "      <td>15</td>\n",
       "      <td>38.81767</td>\n",
       "      <td>11</td>\n",
       "      <td>12</td>\n",
       "      <td>3</td>\n",
       "      <td>1</td>\n",
       "      <td>13.250000</td>\n",
       "      <td>24.00</td>\n",
       "    </tr>\n",
       "    <tr>\n",
       "      <th>3</th>\n",
       "      <td>13</td>\n",
       "      <td>57.08318</td>\n",
       "      <td>12</td>\n",
       "      <td>16</td>\n",
       "      <td>2</td>\n",
       "      <td>1</td>\n",
       "      <td>18.250000</td>\n",
       "      <td>29.50</td>\n",
       "    </tr>\n",
       "    <tr>\n",
       "      <th>4</th>\n",
       "      <td>18</td>\n",
       "      <td>65.53439</td>\n",
       "      <td>16</td>\n",
       "      <td>20</td>\n",
       "      <td>1</td>\n",
       "      <td>1</td>\n",
       "      <td>13.769230</td>\n",
       "      <td>32.05</td>\n",
       "    </tr>\n",
       "  </tbody>\n",
       "</table>\n",
       "</div>"
      ],
      "text/plain": [
       "    S    ASVABC  SM  SF  SIBLINGS  LIBRARY      EXPER  EARNINGS\n",
       "0  12  60.89985   8   8        11        0  22.384610     53.41\n",
       "1  12  33.63790   5   5         3        0   8.903846      8.00\n",
       "2  15  38.81767  11  12         3        1  13.250000     24.00\n",
       "3  13  57.08318  12  16         2        1  18.250000     29.50\n",
       "4  18  65.53439  16  20         1        1  13.769230     32.05"
      ]
     },
     "execution_count": 3,
     "metadata": {},
     "output_type": "execute_result"
    }
   ],
   "source": [
    "data.head()"
   ]
  },
  {
   "cell_type": "markdown",
   "metadata": {},
   "source": [
    "**Columns**:\n",
    "\n",
    "- `S`: subject's schooling (in years).\n",
    "- `ASVABC`: scaled standardized test score.\n",
    "- `SM`: schooling of the mother.\n",
    "- `SF`: schooling of the father.\n",
    "- `LIBRARY`: parents' ownership of a library card (boolean).\n",
    "- `SIBLINGS`: number of siblings.\n",
    "- `EXPER`: work experience (in years).\n",
    "- `EARNINGS`: subject's earnings."
   ]
  },
  {
   "cell_type": "markdown",
   "metadata": {},
   "source": [
    "**Regression**: $\\log \\textrm{ earnings } \\sim \\textrm{ schooling }, \\textrm{ experience }$, that is, $\\log$ `EARNINGS` $\\sim$ `S`, `EXPER`.\n",
    "\n",
    "> \"We are going to worry that $\\textrm{ schooling }$ is correlated with the error and we will get an instrument for it. And we will use a couple of different kinds of instruments.\"\n",
    "\n",
    "1. Base regression.\n",
    "2. Instrument: `SM`.\n",
    "3. Instrument: `SM`, `SF`, `SIBLINGS`, `LIBRARY`."
   ]
  },
  {
   "cell_type": "code",
   "execution_count": 4,
   "metadata": {},
   "outputs": [],
   "source": [
    "data['LOG_EARN'] = data.EARNINGS.apply(np.log)\n",
    "data['CONST'] = 1.0"
   ]
  },
  {
   "cell_type": "code",
   "execution_count": 5,
   "metadata": {},
   "outputs": [],
   "source": [
    "base_reg = OLS(endog=data['LOG_EARN'], exog=data[['CONST','S', 'EXPER']]).fit()"
   ]
  },
  {
   "cell_type": "code",
   "execution_count": 6,
   "metadata": {},
   "outputs": [
    {
     "data": {
      "text/html": [
       "<table class=\"simpletable\">\n",
       "<caption>OLS Regression Results</caption>\n",
       "<tr>\n",
       "  <th>Dep. Variable:</th>        <td>LOG_EARN</td>     <th>  R-squared:         </th> <td>   0.273</td>\n",
       "</tr>\n",
       "<tr>\n",
       "  <th>Model:</th>                   <td>OLS</td>       <th>  Adj. R-squared:    </th> <td>   0.270</td>\n",
       "</tr>\n",
       "<tr>\n",
       "  <th>Method:</th>             <td>Least Squares</td>  <th>  F-statistic:       </th> <td>   100.9</td>\n",
       "</tr>\n",
       "<tr>\n",
       "  <th>Date:</th>             <td>Sun, 15 Dec 2019</td> <th>  Prob (F-statistic):</th> <td>6.47e-38</td>\n",
       "</tr>\n",
       "<tr>\n",
       "  <th>Time:</th>                 <td>21:52:46</td>     <th>  Log-Likelihood:    </th> <td> -393.37</td>\n",
       "</tr>\n",
       "<tr>\n",
       "  <th>No. Observations:</th>      <td>   540</td>      <th>  AIC:               </th> <td>   792.7</td>\n",
       "</tr>\n",
       "<tr>\n",
       "  <th>Df Residuals:</th>          <td>   537</td>      <th>  BIC:               </th> <td>   805.6</td>\n",
       "</tr>\n",
       "<tr>\n",
       "  <th>Df Model:</th>              <td>     2</td>      <th>                     </th>     <td> </td>   \n",
       "</tr>\n",
       "<tr>\n",
       "  <th>Covariance Type:</th>      <td>nonrobust</td>    <th>                     </th>     <td> </td>   \n",
       "</tr>\n",
       "</table>\n",
       "<table class=\"simpletable\">\n",
       "<tr>\n",
       "    <td></td>       <th>coef</th>     <th>std err</th>      <th>t</th>      <th>P>|t|</th>  <th>[0.025</th>    <th>0.975]</th>  \n",
       "</tr>\n",
       "<tr>\n",
       "  <th>CONST</th> <td>    0.5093</td> <td>    0.166</td> <td>    3.061</td> <td> 0.002</td> <td>    0.182</td> <td>    0.836</td>\n",
       "</tr>\n",
       "<tr>\n",
       "  <th>S</th>     <td>    0.1236</td> <td>    0.009</td> <td>   13.583</td> <td> 0.000</td> <td>    0.106</td> <td>    0.141</td>\n",
       "</tr>\n",
       "<tr>\n",
       "  <th>EXPER</th> <td>    0.0351</td> <td>    0.005</td> <td>    7.010</td> <td> 0.000</td> <td>    0.025</td> <td>    0.045</td>\n",
       "</tr>\n",
       "</table>\n",
       "<table class=\"simpletable\">\n",
       "<tr>\n",
       "  <th>Omnibus:</th>       <td>14.231</td> <th>  Durbin-Watson:     </th> <td>   1.810</td>\n",
       "</tr>\n",
       "<tr>\n",
       "  <th>Prob(Omnibus):</th> <td> 0.001</td> <th>  Jarque-Bera (JB):  </th> <td>  24.612</td>\n",
       "</tr>\n",
       "<tr>\n",
       "  <th>Skew:</th>          <td> 0.150</td> <th>  Prob(JB):          </th> <td>4.52e-06</td>\n",
       "</tr>\n",
       "<tr>\n",
       "  <th>Kurtosis:</th>      <td> 4.002</td> <th>  Cond. No.          </th> <td>    170.</td>\n",
       "</tr>\n",
       "</table><br/><br/>Warnings:<br/>[1] Standard Errors assume that the covariance matrix of the errors is correctly specified."
      ],
      "text/plain": [
       "<class 'statsmodels.iolib.summary.Summary'>\n",
       "\"\"\"\n",
       "                            OLS Regression Results                            \n",
       "==============================================================================\n",
       "Dep. Variable:               LOG_EARN   R-squared:                       0.273\n",
       "Model:                            OLS   Adj. R-squared:                  0.270\n",
       "Method:                 Least Squares   F-statistic:                     100.9\n",
       "Date:                Sun, 15 Dec 2019   Prob (F-statistic):           6.47e-38\n",
       "Time:                        21:52:46   Log-Likelihood:                -393.37\n",
       "No. Observations:                 540   AIC:                             792.7\n",
       "Df Residuals:                     537   BIC:                             805.6\n",
       "Df Model:                           2                                         \n",
       "Covariance Type:            nonrobust                                         \n",
       "==============================================================================\n",
       "                 coef    std err          t      P>|t|      [0.025      0.975]\n",
       "------------------------------------------------------------------------------\n",
       "CONST          0.5093      0.166      3.061      0.002       0.182       0.836\n",
       "S              0.1236      0.009     13.583      0.000       0.106       0.141\n",
       "EXPER          0.0351      0.005      7.010      0.000       0.025       0.045\n",
       "==============================================================================\n",
       "Omnibus:                       14.231   Durbin-Watson:                   1.810\n",
       "Prob(Omnibus):                  0.001   Jarque-Bera (JB):               24.612\n",
       "Skew:                           0.150   Prob(JB):                     4.52e-06\n",
       "Kurtosis:                       4.002   Cond. No.                         170.\n",
       "==============================================================================\n",
       "\n",
       "Warnings:\n",
       "[1] Standard Errors assume that the covariance matrix of the errors is correctly specified.\n",
       "\"\"\""
      ]
     },
     "execution_count": 6,
     "metadata": {},
     "output_type": "execute_result"
    }
   ],
   "source": [
    "base_reg.summary()"
   ]
  },
  {
   "cell_type": "markdown",
   "metadata": {},
   "source": [
    "More on `statsmodels.regression.linear_model.OLS` [here](https://www.statsmodels.org/devel/generated/statsmodels.regression.linear_model.OLS.html)."
   ]
  },
  {
   "cell_type": "markdown",
   "metadata": {},
   "source": [
    "### Two-stage Least Squares*\n",
    "\n",
    "Original model: $y_i = \\beta_1 + \\beta_2 x_{2i} + \\beta_3 x_{3i} + u_i$.\n",
    "\n",
    "**First stage**</u>: regress the endogenous variable of interest on the instrument(s) - <u>include all other endogenous variables</u>.\n",
    "\n",
    "Say $Z = \\{z_i\\}$ will be used as an intrument to $X_2 = \\{x_{2i}\\}$.\n",
    "\n",
    "Then, run $x_{2i} = \\alpha_1 + \\alpha_2 z_i + \\alpha_3 x_{3i} + v_i$, where $v_i$ is the random error term.\n",
    "\n",
    "**Second stage**: use the predicted variable $\\hat X_2 = \\{\\hat x_{2i}\\}$ as an endogenous variable in the original model.\n",
    "\n",
    "Run $y_i = \\beta_1 + \\beta_2 \\hat x_{2i} + \\beta_3 x_{3i} + \\tilde u_i$. (<u>READ MORE</u>)\n",
    "\n",
    "***\n",
    "\n",
    "More on Two-Stage Least Squares [here](https://python.quantecon.org/ols.html).\n",
    "\n",
    "***"
   ]
  },
  {
   "cell_type": "markdown",
   "metadata": {},
   "source": [
    "`SM` as an instrument of `S`:"
   ]
  },
  {
   "cell_type": "code",
   "execution_count": 24,
   "metadata": {},
   "outputs": [],
   "source": [
    "ivreg1_stage1 = OLS(endog=data['S'], exog=data[['CONST', 'SM', 'EXPER']]).fit()"
   ]
  },
  {
   "cell_type": "code",
   "execution_count": 27,
   "metadata": {},
   "outputs": [],
   "source": [
    "data['S_HAT'] = ivreg1_stage1.predict(data[['CONST','SM', 'EXPER']])"
   ]
  },
  {
   "cell_type": "code",
   "execution_count": 28,
   "metadata": {},
   "outputs": [],
   "source": [
    "ivreg1_stage2 = OLS(endog=data['LOG_EARN'], exog=data[['CONST', 'S_HAT', 'EXPER']]).fit()"
   ]
  },
  {
   "cell_type": "code",
   "execution_count": 29,
   "metadata": {},
   "outputs": [
    {
     "data": {
      "text/html": [
       "<table class=\"simpletable\">\n",
       "<caption>OLS Regression Results</caption>\n",
       "<tr>\n",
       "  <th>Dep. Variable:</th>        <td>LOG_EARN</td>     <th>  R-squared:         </th> <td>   0.079</td>\n",
       "</tr>\n",
       "<tr>\n",
       "  <th>Model:</th>                   <td>OLS</td>       <th>  Adj. R-squared:    </th> <td>   0.076</td>\n",
       "</tr>\n",
       "<tr>\n",
       "  <th>Method:</th>             <td>Least Squares</td>  <th>  F-statistic:       </th> <td>   23.07</td>\n",
       "</tr>\n",
       "<tr>\n",
       "  <th>Date:</th>             <td>Sun, 15 Dec 2019</td> <th>  Prob (F-statistic):</th> <td>2.44e-10</td>\n",
       "</tr>\n",
       "<tr>\n",
       "  <th>Time:</th>                 <td>23:22:09</td>     <th>  Log-Likelihood:    </th> <td> -457.22</td>\n",
       "</tr>\n",
       "<tr>\n",
       "  <th>No. Observations:</th>      <td>   540</td>      <th>  AIC:               </th> <td>   920.4</td>\n",
       "</tr>\n",
       "<tr>\n",
       "  <th>Df Residuals:</th>          <td>   537</td>      <th>  BIC:               </th> <td>   933.3</td>\n",
       "</tr>\n",
       "<tr>\n",
       "  <th>Df Model:</th>              <td>     2</td>      <th>                     </th>     <td> </td>   \n",
       "</tr>\n",
       "<tr>\n",
       "  <th>Covariance Type:</th>      <td>nonrobust</td>    <th>                     </th>     <td> </td>   \n",
       "</tr>\n",
       "</table>\n",
       "<table class=\"simpletable\">\n",
       "<tr>\n",
       "    <td></td>       <th>coef</th>     <th>std err</th>      <th>t</th>      <th>P>|t|</th>  <th>[0.025</th>    <th>0.975]</th>  \n",
       "</tr>\n",
       "<tr>\n",
       "  <th>CONST</th> <td>   -0.0617</td> <td>    0.451</td> <td>   -0.137</td> <td> 0.891</td> <td>   -0.947</td> <td>    0.823</td>\n",
       "</tr>\n",
       "<tr>\n",
       "  <th>S_HAT</th> <td>    0.1600</td> <td>    0.028</td> <td>    5.705</td> <td> 0.000</td> <td>    0.105</td> <td>    0.215</td>\n",
       "</tr>\n",
       "<tr>\n",
       "  <th>EXPER</th> <td>    0.0394</td> <td>    0.006</td> <td>    6.122</td> <td> 0.000</td> <td>    0.027</td> <td>    0.052</td>\n",
       "</tr>\n",
       "</table>\n",
       "<table class=\"simpletable\">\n",
       "<tr>\n",
       "  <th>Omnibus:</th>       <td>19.381</td> <th>  Durbin-Watson:     </th> <td>   1.869</td>\n",
       "</tr>\n",
       "<tr>\n",
       "  <th>Prob(Omnibus):</th> <td> 0.000</td> <th>  Jarque-Bera (JB):  </th> <td>  24.453</td>\n",
       "</tr>\n",
       "<tr>\n",
       "  <th>Skew:</th>          <td> 0.356</td> <th>  Prob(JB):          </th> <td>4.90e-06</td>\n",
       "</tr>\n",
       "<tr>\n",
       "  <th>Kurtosis:</th>      <td> 3.761</td> <th>  Cond. No.          </th> <td>    408.</td>\n",
       "</tr>\n",
       "</table><br/><br/>Warnings:<br/>[1] Standard Errors assume that the covariance matrix of the errors is correctly specified."
      ],
      "text/plain": [
       "<class 'statsmodels.iolib.summary.Summary'>\n",
       "\"\"\"\n",
       "                            OLS Regression Results                            \n",
       "==============================================================================\n",
       "Dep. Variable:               LOG_EARN   R-squared:                       0.079\n",
       "Model:                            OLS   Adj. R-squared:                  0.076\n",
       "Method:                 Least Squares   F-statistic:                     23.07\n",
       "Date:                Sun, 15 Dec 2019   Prob (F-statistic):           2.44e-10\n",
       "Time:                        23:22:09   Log-Likelihood:                -457.22\n",
       "No. Observations:                 540   AIC:                             920.4\n",
       "Df Residuals:                     537   BIC:                             933.3\n",
       "Df Model:                           2                                         \n",
       "Covariance Type:            nonrobust                                         \n",
       "==============================================================================\n",
       "                 coef    std err          t      P>|t|      [0.025      0.975]\n",
       "------------------------------------------------------------------------------\n",
       "CONST         -0.0617      0.451     -0.137      0.891      -0.947       0.823\n",
       "S_HAT          0.1600      0.028      5.705      0.000       0.105       0.215\n",
       "EXPER          0.0394      0.006      6.122      0.000       0.027       0.052\n",
       "==============================================================================\n",
       "Omnibus:                       19.381   Durbin-Watson:                   1.869\n",
       "Prob(Omnibus):                  0.000   Jarque-Bera (JB):               24.453\n",
       "Skew:                           0.356   Prob(JB):                     4.90e-06\n",
       "Kurtosis:                       3.761   Cond. No.                         408.\n",
       "==============================================================================\n",
       "\n",
       "Warnings:\n",
       "[1] Standard Errors assume that the covariance matrix of the errors is correctly specified.\n",
       "\"\"\""
      ]
     },
     "execution_count": 29,
     "metadata": {},
     "output_type": "execute_result"
    }
   ],
   "source": [
    "ivreg1_stage2.summary()"
   ]
  },
  {
   "cell_type": "markdown",
   "metadata": {},
   "source": [
    "`SM`, `SF`, `SIBLINGS`, `LIBRARY` as instruments of `S`."
   ]
  },
  {
   "cell_type": "code",
   "execution_count": 34,
   "metadata": {},
   "outputs": [],
   "source": [
    "ivreg2 = IV2SLS(endog=data['LOG_EARN'],\n",
    "                exog=data[['CONST', 'S', 'EXPER']],\n",
    "                instrument=data[['CONST','SM', 'SF', 'SIBLINGS', 'LIBRARY', 'EXPER']]).fit()"
   ]
  },
  {
   "cell_type": "code",
   "execution_count": 35,
   "metadata": {},
   "outputs": [
    {
     "data": {
      "text/html": [
       "<table class=\"simpletable\">\n",
       "<caption>IV2SLS Regression Results</caption>\n",
       "<tr>\n",
       "  <th>Dep. Variable:</th>        <td>LOG_EARN</td>     <th>  R-squared:         </th> <td>   0.248</td>\n",
       "</tr>\n",
       "<tr>\n",
       "  <th>Model:</th>                 <td>IV2SLS</td>      <th>  Adj. R-squared:    </th> <td>   0.245</td>\n",
       "</tr>\n",
       "<tr>\n",
       "  <th>Method:</th>               <td>Two Stage</td>    <th>  F-statistic:       </th> <td>   37.11</td>\n",
       "</tr>\n",
       "<tr>\n",
       "  <th></th>                    <td>Least Squares</td>  <th>  Prob (F-statistic):</th> <td>7.99e-16</td>\n",
       "</tr>\n",
       "<tr>\n",
       "  <th>Date:</th>             <td>Sun, 15 Dec 2019</td> <th>                     </th>     <td> </td>   \n",
       "</tr>\n",
       "<tr>\n",
       "  <th>Time:</th>                 <td>23:35:26</td>     <th>                     </th>     <td> </td>   \n",
       "</tr>\n",
       "<tr>\n",
       "  <th>No. Observations:</th>      <td>   540</td>      <th>                     </th>     <td> </td>   \n",
       "</tr>\n",
       "<tr>\n",
       "  <th>Df Residuals:</th>          <td>   537</td>      <th>                     </th>     <td> </td>   \n",
       "</tr>\n",
       "<tr>\n",
       "  <th>Df Model:</th>              <td>     2</td>      <th>                     </th>     <td> </td>   \n",
       "</tr>\n",
       "</table>\n",
       "<table class=\"simpletable\">\n",
       "<tr>\n",
       "    <td></td>       <th>coef</th>     <th>std err</th>      <th>t</th>      <th>P>|t|</th>  <th>[0.025</th>    <th>0.975]</th>  \n",
       "</tr>\n",
       "<tr>\n",
       "  <th>CONST</th> <td>   -0.1035</td> <td>    0.347</td> <td>   -0.298</td> <td> 0.766</td> <td>   -0.786</td> <td>    0.579</td>\n",
       "</tr>\n",
       "<tr>\n",
       "  <th>S</th>     <td>    0.1626</td> <td>    0.021</td> <td>    7.588</td> <td> 0.000</td> <td>    0.121</td> <td>    0.205</td>\n",
       "</tr>\n",
       "<tr>\n",
       "  <th>EXPER</th> <td>    0.0398</td> <td>    0.006</td> <td>    7.110</td> <td> 0.000</td> <td>    0.029</td> <td>    0.051</td>\n",
       "</tr>\n",
       "</table>\n",
       "<table class=\"simpletable\">\n",
       "<tr>\n",
       "  <th>Omnibus:</th>       <td>11.797</td> <th>  Durbin-Watson:     </th> <td>   1.818</td>\n",
       "</tr>\n",
       "<tr>\n",
       "  <th>Prob(Omnibus):</th> <td> 0.003</td> <th>  Jarque-Bera (JB):  </th> <td>  21.000</td>\n",
       "</tr>\n",
       "<tr>\n",
       "  <th>Skew:</th>          <td> 0.060</td> <th>  Prob(JB):          </th> <td>2.75e-05</td>\n",
       "</tr>\n",
       "<tr>\n",
       "  <th>Kurtosis:</th>      <td> 3.959</td> <th>  Cond. No.          </th> <td>    170.</td>\n",
       "</tr>\n",
       "</table>"
      ],
      "text/plain": [
       "<class 'statsmodels.iolib.summary.Summary'>\n",
       "\"\"\"\n",
       "                          IV2SLS Regression Results                           \n",
       "==============================================================================\n",
       "Dep. Variable:               LOG_EARN   R-squared:                       0.248\n",
       "Model:                         IV2SLS   Adj. R-squared:                  0.245\n",
       "Method:                     Two Stage   F-statistic:                     37.11\n",
       "                        Least Squares   Prob (F-statistic):           7.99e-16\n",
       "Date:                Sun, 15 Dec 2019                                         \n",
       "Time:                        23:35:26                                         \n",
       "No. Observations:                 540                                         \n",
       "Df Residuals:                     537                                         \n",
       "Df Model:                           2                                         \n",
       "==============================================================================\n",
       "                 coef    std err          t      P>|t|      [0.025      0.975]\n",
       "------------------------------------------------------------------------------\n",
       "CONST         -0.1035      0.347     -0.298      0.766      -0.786       0.579\n",
       "S              0.1626      0.021      7.588      0.000       0.121       0.205\n",
       "EXPER          0.0398      0.006      7.110      0.000       0.029       0.051\n",
       "==============================================================================\n",
       "Omnibus:                       11.797   Durbin-Watson:                   1.818\n",
       "Prob(Omnibus):                  0.003   Jarque-Bera (JB):               21.000\n",
       "Skew:                           0.060   Prob(JB):                     2.75e-05\n",
       "Kurtosis:                       3.959   Cond. No.                         170.\n",
       "==============================================================================\n",
       "\"\"\""
      ]
     },
     "execution_count": 35,
     "metadata": {},
     "output_type": "execute_result"
    }
   ],
   "source": [
    "ivreg2.summary()"
   ]
  },
  {
   "cell_type": "markdown",
   "metadata": {},
   "source": [
    "More on `statsmodels.sandbox.regression.gmm.IV2SLS` [here](https://www.statsmodels.org/stable/generated/statsmodels.sandbox.regression.gmm.IV2SLS.html)."
   ]
  },
  {
   "cell_type": "code",
   "execution_count": null,
   "metadata": {},
   "outputs": [],
   "source": []
  }
 ],
 "metadata": {
  "kernelspec": {
   "display_name": "Python 3",
   "language": "python",
   "name": "python3"
  },
  "language_info": {
   "codemirror_mode": {
    "name": "ipython",
    "version": 3
   },
   "file_extension": ".py",
   "mimetype": "text/x-python",
   "name": "python",
   "nbconvert_exporter": "python",
   "pygments_lexer": "ipython3",
   "version": "3.7.3"
  }
 },
 "nbformat": 4,
 "nbformat_minor": 2
}
